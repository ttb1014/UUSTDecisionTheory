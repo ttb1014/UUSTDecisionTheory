{
 "cells": [
  {
   "metadata": {},
   "cell_type": "markdown",
   "source": "<h1> Логико-вероятностный метод </h1>",
   "id": "54f4c8e2c3c3d8a"
  },
  {
   "metadata": {},
   "cell_type": "markdown",
   "source": "<h2>Инициализация</h2>",
   "id": "6b26f4b624916089"
  },
  {
   "metadata": {},
   "cell_type": "markdown",
   "source": "Установка зависимостей",
   "id": "cc7bb9623c79bbcc"
  },
  {
   "metadata": {},
   "cell_type": "code",
   "source": "!pip install -r requirements.txt",
   "id": "49c3f0ac609ab570",
   "outputs": [],
   "execution_count": null
  },
  {
   "metadata": {},
   "cell_type": "code",
   "source": [
    "import matplotlib.pyplot as plt\n",
    "from pyvis.network import Network\n",
    "# import webbrowser\n",
    "import json"
   ],
   "id": "c799a60479da7dac",
   "outputs": [],
   "execution_count": null
  },
  {
   "metadata": {},
   "cell_type": "markdown",
   "source": "Инициализация глобальных переменных",
   "id": "2e9231fc6fee5ac1"
  },
  {
   "metadata": {},
   "cell_type": "code",
   "source": [
    "resource_name = input(\"Введите название ресурса\")\n",
    "graph_path = \"F:\\PycharmProjects\\\\UUSTDecisionTheory\\graphs\\\\\"\n",
    "data_path = \"F:\\PycharmProjects\\\\UUSTDecisionTheory\\data\\\\\""
   ],
   "id": "18f7fe489dff5ae3",
   "outputs": [],
   "execution_count": null
  },
  {
   "metadata": {},
   "cell_type": "markdown",
   "source": "Функции для работы с сетью pyvis",
   "id": "f9bd4e9210c44831"
  },
  {
   "metadata": {},
   "cell_type": "code",
   "source": [
    "def add_event(graph):\n",
    "    index = len(list(graph.nodes))\n",
    "    event_name = input(f'Введите название события {index}')\n",
    "    logit = input(\"Введите логит события (or - или, and - и, `вероятность` - инициирующее событие)\")\n",
    "    graph.add_node(index, label=f\"{index}-{event_name}\", title=logit)\n",
    "    print(f\"Событие '{event_name}' добавлено как '{logit}' под индексом {index}.\\n\")\n",
    "\n",
    "\n",
    "def edit_event(graph):\n",
    "    index = int(input(f'Введите индекс события'))\n",
    "    event_name = input(f'Введите новое название события {index}')\n",
    "    logit = input(\"Введите новый логит события (or - или, and - и, ini - инициирующее событие)\")\n",
    "    graph.delete_node(index)\n",
    "    graph.add_node(index, label=f\"{index}-{event_name}\", title=logit)\n",
    "    print(f\"Событие '{event_name}' отредактировано как '{logit}' под индексом {index}.\\n\")\n",
    "\n",
    "\n",
    "def delete_event(graph):\n",
    "    event_index = int(input(\"Введите индекс события для удаления\"))\n",
    "\n",
    "    if event_index in list(graph.nodes):\n",
    "        graph.remove_node(event_index)\n",
    "        print(f\"Событие '{event_index}' и все связанные с ним зависимости успешно удалены.\\n\")\n",
    "    else:\n",
    "        print(f\"Событие '{event_index}' не найдено в графе.\\n\")\n",
    "\n",
    "\n",
    "def add_dependency(graph):\n",
    "    source_event_index = int(input(\"Введите индекс исходного события\"))\n",
    "    target_event_index = int(input(\"Введите индекс целевого события\"))\n",
    "\n",
    "    if (source_event_index in [node['id'] for node in graph.nodes] and\n",
    "            target_event_index in [node['id'] for node in graph.nodes]):\n",
    "        graph.add_edge(source_event_index, target_event_index)\n",
    "        print(f\"Зависимость от '{source_event_index}' к '{target_event_index}' добавлена.\\n\")\n",
    "    else:\n",
    "        print(\"Одно из событий не существует. Пожалуйста, добавьте их сначала.\\n\")\n",
    "\n",
    "\n",
    "# FIXME\n",
    "def make_levels(graph):\n",
    "    node_positions = {}\n",
    "\n",
    "    def assign_level(node, level=0):\n",
    "        node_positions[node] = level\n",
    "        for edge in graph.edges:\n",
    "            if edge['from'] == node:\n",
    "                assign_level(edge['to'], level + 1)\n",
    "\n",
    "    assign_level(0)\n",
    "\n",
    "    for node in graph.nodes:\n",
    "        level = node_positions.get(node['id'], 0)\n",
    "        graph.nodes[node['id']]['x'] = level * 200\n",
    "        graph.nodes[node['id']]['y'] = -level * 100\n",
    "\n",
    "\n",
    "def beautify(graph):\n",
    "    graph.nodes[0]['color'] = 'red'\n",
    "    graph.nodes[0]['size'] = 30\n",
    "\n",
    "    # make_levels(graph)\n",
    "\n",
    "\n",
    "def visualize_graph(graph):\n",
    "    beautify(graph)\n",
    "\n",
    "    file_absolute_path = graph_path + graph.nodes[0]['label'].split('-')[1] + \".html\"\n",
    "    graph.show(file_absolute_path)\n",
    "    # FIXME\n",
    "    # webbrowser.get('windows-default').open_new(file_absolute_path)\n",
    "    print(f'Граф сохранен в файле {file_absolute_path}')\n",
    "\n",
    "\n",
    "def save_graph_to_json(graph, filename):\n",
    "    graph_data = {\n",
    "        \"nodes\": [{\"id\": node[\"id\"], \"label\": node[\"label\"].split('-')[1], \"title\": node[\"title\"]} for node in\n",
    "                  graph.nodes],\n",
    "        \"edges\": [{\"from\": edge[\"from\"], \"to\": edge[\"to\"]} for edge in graph.edges]\n",
    "    }\n",
    "\n",
    "    with open(filename, 'w') as f:\n",
    "        json.dump(graph_data, f)\n",
    "    print(f\"Граф сохранен в файл {filename}\")\n",
    "\n",
    "\n",
    "def load_graph_from_json(filename):\n",
    "    with open(filename, 'r') as f:\n",
    "        graph_data = json.load(f)\n",
    "\n",
    "    net = Network(notebook=True)\n",
    "\n",
    "    for node in graph_data['nodes']:\n",
    "        net.add_node(node['id'], label=f\"{node['id']}-{node['label']}\", title=node['title'])\n",
    "        net.add_node(node['id'], label=node['label'], title=node['title'])\n",
    "\n",
    "    for edge in graph_data['edges']:\n",
    "        net.add_edge(edge['from'], edge['to'])\n",
    "\n",
    "    return net"
   ],
   "id": "654c65099596931f",
   "outputs": [],
   "execution_count": null
  },
  {
   "metadata": {},
   "cell_type": "markdown",
   "source": "Инициализация графов",
   "id": "a1f36e902b9688f4"
  },
  {
   "metadata": {},
   "cell_type": "code",
   "source": [
    "critical_states_num = int(input(\"Введите количество опасных состояний ресурса\"))\n",
    "\n",
    "\n",
    "def validate_index(index):\n",
    "    if index >= critical_states_num:\n",
    "        raise ValueError(\"index out of range\")\n",
    "\n",
    "\n",
    "critical_states_graphs = [Network(directed=True, notebook=True, cdn_resources='local')] * critical_states_num"
   ],
   "id": "80a8601cbcb1a2f",
   "outputs": [],
   "execution_count": null
  },
  {
   "metadata": {},
   "cell_type": "markdown",
   "source": "<h2>Работа с графом событий</h2>",
   "id": "e855f09a5b109317"
  },
  {
   "metadata": {},
   "cell_type": "markdown",
   "source": "Добавление событий",
   "id": "8e13c8d5afef433d"
  },
  {
   "metadata": {},
   "cell_type": "code",
   "source": [
    "state_index = int(input(f'Введите индекс состояния для добавления событий'))\n",
    "validate_index(state_index)\n",
    "G = critical_states_graphs[state_index]\n",
    "add_event(G)"
   ],
   "id": "840102a97d3933d2",
   "outputs": [],
   "execution_count": null
  },
  {
   "metadata": {},
   "cell_type": "markdown",
   "source": "Редактирование событий",
   "id": "9bef7f0b81128a5d"
  },
  {
   "metadata": {},
   "cell_type": "code",
   "source": [
    "state_index = int(input(f'Введите индекс состояния для редактирования событий'))\n",
    "validate_index(state_index)\n",
    "G = critical_states_graphs[state_index]\n",
    "edit_event(G)"
   ],
   "id": "1743b49b2edcd7b3",
   "outputs": [],
   "execution_count": null
  },
  {
   "metadata": {},
   "cell_type": "markdown",
   "source": "Удаление события",
   "id": "cdda756aa6df6902"
  },
  {
   "metadata": {},
   "cell_type": "code",
   "source": [
    "state_index = int(input(f'Введите индекс состояния для удаление события'))\n",
    "validate_index(state_index)\n",
    "G = critical_states_graphs[state_index]\n",
    "delete_event(G)"
   ],
   "id": "f7bb72cd95b5f325",
   "outputs": [],
   "execution_count": null
  },
  {
   "metadata": {},
   "cell_type": "markdown",
   "source": "Добавление связей",
   "id": "1801632e370e03c4"
  },
  {
   "metadata": {},
   "cell_type": "code",
   "source": [
    "state_index = int(input(f'Введите индекс состояния для добавления зависимостей'))\n",
    "validate_index(state_index)\n",
    "G = critical_states_graphs[state_index]\n",
    "add_dependency(G)"
   ],
   "id": "c3333f7cc9f5ba9d",
   "outputs": [],
   "execution_count": null
  },
  {
   "metadata": {},
   "cell_type": "markdown",
   "source": "Визуализация",
   "id": "680d2c2be13411d4"
  },
  {
   "metadata": {
    "ExecuteTime": {
     "end_time": "2025-02-23T13:52:17.341137Z",
     "start_time": "2025-02-23T13:52:16.746471Z"
    }
   },
   "cell_type": "code",
   "source": [
    "state_index = int(input(f'Введите индекс состояния для визуализации'))\n",
    "validate_index(state_index)\n",
    "G = critical_states_graphs[state_index]\n",
    "visualize_graph(G)"
   ],
   "id": "412d0cbb01a4eae7",
   "outputs": [
    {
     "name": "stdout",
     "output_type": "stream",
     "text": [
      "F:\\PycharmProjects\\UUSTDecisionTheory\\graphs\\DB drop.html\n",
      "Граф сохранен в файле F:\\PycharmProjects\\UUSTDecisionTheory\\graphs\\DB drop.html\n"
     ]
    }
   ],
   "execution_count": 351
  },
  {
   "metadata": {},
   "cell_type": "markdown",
   "source": "Сохранение в файл",
   "id": "6494868b43fd31c8"
  },
  {
   "metadata": {},
   "cell_type": "code",
   "source": [
    "state_index = int(input(f'Введите индекс состояния для сохранения'))\n",
    "validate_index(state_index)\n",
    "filename = str(input(f'Введите название файла для сохранения'))\n",
    "save_graph_to_json(G, data_path + filename + \".json\")"
   ],
   "id": "cf8fac69072bd983",
   "outputs": [],
   "execution_count": null
  },
  {
   "metadata": {},
   "cell_type": "markdown",
   "source": "Считывание из файла",
   "id": "2a7ae17d4c3ba688"
  },
  {
   "metadata": {
    "ExecuteTime": {
     "end_time": "2025-02-23T13:53:51.061554Z",
     "start_time": "2025-02-23T13:53:45.377259Z"
    }
   },
   "cell_type": "code",
   "source": [
    "state_index = int(input(f'Введите индекс состояния для считывания'))\n",
    "validate_index(state_index)\n",
    "filename = str(input(f'Введите название файла для считывания'))\n",
    "critical_states_graphs[state_index] = load_graph_from_json(data_path + filename + \".json\")"
   ],
   "id": "6d54d63bd5821c42",
   "outputs": [
    {
     "name": "stdout",
     "output_type": "stream",
     "text": [
      "Warning: When  cdn_resources is 'local' jupyter notebook has issues displaying graphics on chrome/safari. Use cdn_resources='in_line' or cdn_resources='remote' if you have issues viewing graphics in a notebook.\n"
     ]
    }
   ],
   "execution_count": 356
  },
  {
   "metadata": {},
   "cell_type": "markdown",
   "source": "<h2>Расчёт вероятностей реализации опасных состояний</h2>",
   "id": "682b54bf57b055fa"
  },
  {
   "metadata": {},
   "cell_type": "markdown",
   "source": "Функции для расчёта",
   "id": "20a068c3183b75c7"
  },
  {
   "metadata": {
    "ExecuteTime": {
     "end_time": "2025-02-23T13:53:57.632794Z",
     "start_time": "2025-02-23T13:53:57.627134Z"
    }
   },
   "cell_type": "code",
   "source": [
    "def get_prob(graph, node):\n",
    "    edges_from = list(filter(lambda edge: edge['from'] == node['id'], graph.edges))\n",
    "    logit = node['title']\n",
    "    probability = None\n",
    "    if logit == 'and':\n",
    "        probability = 1\n",
    "        for edge in edges_from:\n",
    "            probability *= get_prob(graph, graph.nodes[edge['to']])\n",
    "    elif logit == 'or':\n",
    "        probability = 0\n",
    "        for edge in edges_from:\n",
    "            probability += get_prob(graph, graph.nodes[edge['to']])\n",
    "    else:\n",
    "        probability = float(node['title'])\n",
    "    return probability"
   ],
   "id": "ecf10f6cf31f639b",
   "outputs": [],
   "execution_count": 357
  },
  {
   "metadata": {},
   "cell_type": "markdown",
   "source": "Расчёт вероятностей",
   "id": "5c1cce1673602872"
  },
  {
   "metadata": {
    "ExecuteTime": {
     "end_time": "2025-02-23T13:53:58.847324Z",
     "start_time": "2025-02-23T13:53:58.842684Z"
    }
   },
   "cell_type": "code",
   "source": [
    "probabilities = []\n",
    "for i in range(critical_states_num):\n",
    "    graph = critical_states_graphs[state_index]\n",
    "    root = graph.nodes[0]\n",
    "    probability = get_prob(graph, root)\n",
    "    probabilities.append(probability)"
   ],
   "id": "c90f316eb23bb1e3",
   "outputs": [],
   "execution_count": 358
  },
  {
   "metadata": {},
   "cell_type": "markdown",
   "source": "Ввод потерь от реализации опасных состояний",
   "id": "8e75f6264a96e569"
  },
  {
   "metadata": {
    "ExecuteTime": {
     "end_time": "2025-02-23T13:54:17.050260Z",
     "start_time": "2025-02-23T13:54:00.430622Z"
    }
   },
   "cell_type": "code",
   "source": [
    "losses = []\n",
    "for i in range(critical_states_num):\n",
    "    loss = float(input(f\"Введите потери от реализации состояния {critical_states_graphs[i].nodes[0]['label'].split('-')[1]}\"))\n",
    "    losses.append(loss)"
   ],
   "id": "6ef55247941ceea9",
   "outputs": [],
   "execution_count": 359
  },
  {
   "metadata": {},
   "cell_type": "markdown",
   "source": "Расчёт риска реализации опасных состояний",
   "id": "68fe84cafb5f6ef"
  },
  {
   "metadata": {
    "ExecuteTime": {
     "end_time": "2025-02-23T13:54:36.891654Z",
     "start_time": "2025-02-23T13:54:36.885998Z"
    }
   },
   "cell_type": "code",
   "source": [
    "risks = []\n",
    "total = 0\n",
    "for i in range(critical_states_num):\n",
    "    risks.append(losses[i] * probabilities[i])\n",
    "    print(f\"Риск релизации состояния {critical_states_graphs[i].nodes[0]['label'].split('-')[1]}: {risks[i]}\")\n",
    "    total += risks[i]\n",
    "print(f\"Риск ИС: {total}\")"
   ],
   "id": "ec88376c141f298a",
   "outputs": [
    {
     "name": "stdout",
     "output_type": "stream",
     "text": [
      "Риск релизации состояния DB drop: 37650.0\n",
      "Риск релизации состояния Lack of experienced specialists: 200800.0\n",
      "Риск релизации состояния Server overload: 150600.0\n",
      "Риск ИС: 389050.0\n"
     ]
    }
   ],
   "execution_count": 361
  }
 ],
 "metadata": {
  "kernelspec": {
   "display_name": "Python 3",
   "language": "python",
   "name": "python3"
  },
  "language_info": {
   "codemirror_mode": {
    "name": "ipython",
    "version": 2
   },
   "file_extension": ".py",
   "mimetype": "text/x-python",
   "name": "python",
   "nbconvert_exporter": "python",
   "pygments_lexer": "ipython2",
   "version": "2.7.6"
  }
 },
 "nbformat": 4,
 "nbformat_minor": 5
}
